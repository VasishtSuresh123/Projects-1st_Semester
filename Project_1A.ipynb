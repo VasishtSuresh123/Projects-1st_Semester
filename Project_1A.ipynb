{
 "cells": [
  {
   "cell_type": "code",
   "execution_count": 1,
   "id": "ecfa3bc3",
   "metadata": {},
   "outputs": [
    {
     "name": "stdout",
     "output_type": "stream",
     "text": [
      "Enter the name of the student : Vasisht Suresh\n",
      "Enter the USN of the student : CSE23011\n",
      "Enter marks in Subject 1 : 80\n",
      "Enter marks in Subject 2 : 80\n",
      "Enter marks in Subject 3 : 75\n",
      "Student Details\n",
      "\n",
      "Name : Vasisht Suresh\n",
      "USN : CSE23011\n",
      "Marks 1 : 80\n",
      "Marks 2 : 80\n",
      "Marks 3 : 75\n",
      "Total : 235\n",
      "Percentage : 78.33333333333333\n"
     ]
    }
   ],
   "source": [
    "stuName =  input(\"Enter the name of the student : \")\n",
    "stuUSN = input(\"Enter the USN of the student : \")\n",
    "stuMarks1 = int(input(\"Enter marks in Subject 1 : \"))\n",
    "stuMarks2 = int(input(\"Enter marks in Subject 2 : \"))\n",
    "stuMarks3 = int(input(\"Enter marks in Subject 3 : \"))\n",
    "\n",
    "print(\"Student Details\\n\")\n",
    "print(\"Name :\", stuName)\n",
    "print(\"USN :\", stuUSN)\n",
    "print(\"Marks 1 :\", stuMarks1)\n",
    "print(\"Marks 2 :\", stuMarks2)\n",
    "print(\"Marks 3 :\", stuMarks3)\n",
    "print(\"Total :\", stuMarks1+stuMarks2+stuMarks3)\n",
    "print(\"Percentage :\", (stuMarks1+stuMarks2+stuMarks3)/3)\n"
   ]
  }
 ],
 "metadata": {
  "kernelspec": {
   "display_name": "Python 3 (ipykernel)",
   "language": "python",
   "name": "python3"
  },
  "language_info": {
   "codemirror_mode": {
    "name": "ipython",
    "version": 3
   },
   "file_extension": ".py",
   "mimetype": "text/x-python",
   "name": "python",
   "nbconvert_exporter": "python",
   "pygments_lexer": "ipython3",
   "version": "3.11.4"
  }
 },
 "nbformat": 4,
 "nbformat_minor": 5
}
