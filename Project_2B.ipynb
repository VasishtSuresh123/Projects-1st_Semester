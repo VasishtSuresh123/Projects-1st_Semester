{
 "cells": [
  {
   "cell_type": "markdown",
   "id": "2cb48536",
   "metadata": {},
   "source": [
    "## Write a function to calculate the factorial of a number. Develop a program to compute the binomial coefficient. (Given N and R) "
   ]
  },
  {
   "cell_type": "code",
   "execution_count": 3,
   "id": "1f3bd3a8",
   "metadata": {},
   "outputs": [
    {
     "name": "stdout",
     "output_type": "stream",
     "text": [
      "Enter the value of N : 8\n",
      "Enter the value of R(R cannot be negative or greater than N): 4\n",
      "Factorial of 8 is 40320\n",
      "8 C 4 = 70.0\n"
     ]
    }
   ],
   "source": [
    "def fact(num):\n",
    "    if num == 0:\n",
    "        return 1\n",
    "    else:\n",
    "        return num*fact(num-1)\n",
    "    \n",
    "n = int(input(\"Enter the value of N : \"))\n",
    "r = int(input(\"Enter the value of R(R cannot be negative or greater than N): \"))\n",
    "\n",
    "print(\"Factorial of\", n, \"is\", fact(n))\n",
    "\n",
    "nCr= fact(n)/(fact(r)*fact(n-r))\n",
    "\n",
    "print(n, \"C\", r, \"=\", nCr)"
   ]
  },
  {
   "cell_type": "code",
   "execution_count": null,
   "id": "b9ad759d",
   "metadata": {},
   "outputs": [],
   "source": []
  }
 ],
 "metadata": {
  "kernelspec": {
   "display_name": "Python 3 (ipykernel)",
   "language": "python",
   "name": "python3"
  },
  "language_info": {
   "codemirror_mode": {
    "name": "ipython",
    "version": 3
   },
   "file_extension": ".py",
   "mimetype": "text/x-python",
   "name": "python",
   "nbconvert_exporter": "python",
   "pygments_lexer": "ipython3",
   "version": "3.11.5"
  }
 },
 "nbformat": 4,
 "nbformat_minor": 5
}
