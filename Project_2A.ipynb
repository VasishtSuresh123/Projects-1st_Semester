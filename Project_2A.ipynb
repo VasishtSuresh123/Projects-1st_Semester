{
 "cells": [
  {
   "cell_type": "markdown",
   "id": "a5de4f29",
   "metadata": {},
   "source": [
    "## Develop a program to generate Fibonacci sequence of length(N). Read N from the console. "
   ]
  },
  {
   "cell_type": "code",
   "execution_count": 4,
   "id": "26c4093b",
   "metadata": {},
   "outputs": [
    {
     "name": "stdout",
     "output_type": "stream",
     "text": [
      "Enter the Fibonacci Series length:15\n",
      "The Fibonacci series with 15 terms is: \n",
      "0 1 1 2 3 5 8 13 21 34 55 89 144 233 377 "
     ]
    }
   ],
   "source": [
    "num = int(input(\"Enter the Fibonacci Series length:\"))\n",
    "\n",
    "firstTerm = 0\n",
    "secondTerm = 1\n",
    "\n",
    "print(\"The Fibonacci series with\", num, \"terms is: \")\n",
    "print(firstTerm, secondTerm, end=\" \")\n",
    "for i in range(2,num):\n",
    "    curTerm = firstTerm + secondTerm\n",
    "    print(curTerm, end=\" \")\n",
    "    firstTerm = secondTerm\n",
    "    secondTerm = curTerm "
   ]
  },
  {
   "cell_type": "code",
   "execution_count": null,
   "id": "9909d75c",
   "metadata": {},
   "outputs": [],
   "source": []
  },
  {
   "cell_type": "code",
   "execution_count": null,
   "id": "c07c9082",
   "metadata": {},
   "outputs": [],
   "source": []
  }
 ],
 "metadata": {
  "kernelspec": {
   "display_name": "Python 3 (ipykernel)",
   "language": "python",
   "name": "python3"
  },
  "language_info": {
   "codemirror_mode": {
    "name": "ipython",
    "version": 3
   },
   "file_extension": ".py",
   "mimetype": "text/x-python",
   "name": "python",
   "nbconvert_exporter": "python",
   "pygments_lexer": "ipython3",
   "version": "3.11.5"
  }
 },
 "nbformat": 4,
 "nbformat_minor": 5
}
