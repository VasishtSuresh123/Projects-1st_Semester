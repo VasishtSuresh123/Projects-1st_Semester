{
 "cells": [
  {
   "cell_type": "code",
   "execution_count": 5,
   "id": "25c61e24",
   "metadata": {},
   "outputs": [
    {
     "name": "stdout",
     "output_type": "stream",
     "text": [
      "Enter the name of the person : Vasisht Suresh\n",
      "Enter the year of Birth : 2005\n",
      "Vasisht Suresh aged 18 years is not a senior citizen.\n"
     ]
    }
   ],
   "source": [
    "from datetime import date\n",
    "Name = input(\"Enter the name of the person : \")\n",
    "DOB = int(input(\"Enter the year of Birth : \"))\n",
    "\n",
    "currentYear = date.today().year\n",
    "perAge = currentYear - DOB\n",
    "\n",
    "if (perAge > 60):\n",
    "    print(Name, \"aged\", perAge, \"years is a senior citizen.\")\n",
    "else:\n",
    "    print(Name, \"aged\", perAge, \"years is not a senior citizen.\")\n",
    "    \n"
   ]
  },
  {
   "cell_type": "code",
   "execution_count": null,
   "id": "d76473d0",
   "metadata": {},
   "outputs": [],
   "source": []
  },
  {
   "cell_type": "code",
   "execution_count": null,
   "id": "96f0e861",
   "metadata": {},
   "outputs": [],
   "source": []
  }
 ],
 "metadata": {
  "kernelspec": {
   "display_name": "Python 3 (ipykernel)",
   "language": "python",
   "name": "python3"
  },
  "language_info": {
   "codemirror_mode": {
    "name": "ipython",
    "version": 3
   },
   "file_extension": ".py",
   "mimetype": "text/x-python",
   "name": "python",
   "nbconvert_exporter": "python",
   "pygments_lexer": "ipython3",
   "version": "3.11.4"
  }
 },
 "nbformat": 4,
 "nbformat_minor": 5
}
